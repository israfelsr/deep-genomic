{
 "cells": [
  {
   "cell_type": "code",
   "execution_count": 1,
   "metadata": {},
   "outputs": [],
   "source": [
    "# set environment variables\n",
    "import sys\n",
    "import os\n",
    "path = \"/Users/israfelsalazar/Documents/deep-genomic.nosync/deep-genomic/\"\n",
    "sys.path.append(path)\n",
    "os.environ[\"WORKDIR\"] = path\n",
    "from tqdm import tqdm\n",
    "\n",
    "# common imports\n",
    "import pandas as pd\n",
    "import numpy as np\n",
    "import matplotlib.pyplot as plt\n",
    "%matplotlib inline\n",
    "import torch\n",
    "\n",
    "# torch\n",
    "from torch.utils.data import DataLoader\n",
    "\n",
    "# local imports\n",
    "from modeling.generator import Generator\n",
    "from modeling.models import StudentTeacherModel\n",
    "from datasets.genomic_environmental_dataset import load_data, load_conditions\n",
    "from train.train_generative import set_seed\n",
    "\n",
    "%load_ext autoreload\n",
    "%autoreload \n",
    "\n",
    "data_dir = \"../data/sim1\"\n",
    "\n",
    "\n",
    "set_seed(42)"
   ]
  },
  {
   "cell_type": "code",
   "execution_count": 38,
   "metadata": {},
   "outputs": [],
   "source": [
    "data_dir = \"../data/sim1\"\n",
    "df = pd.read_csv(os.path.join(data_dir, \"genome.csv\"))\n",
    "df2 = pd.read_csv(os.path.join(data_dir, \"fitness_future.csv\"))"
   ]
  },
  {
   "cell_type": "code",
   "execution_count": 56,
   "metadata": {},
   "outputs": [
    {
     "data": {
      "text/plain": [
       "array([1, 2, 1, 2, 2, 0, 2, 0])"
      ]
     },
     "execution_count": 56,
     "metadata": {},
     "output_type": "execute_result"
    }
   ],
   "source": [
    "np.random.randint(0,3,8)"
   ]
  },
  {
   "cell_type": "code",
   "execution_count": 37,
   "metadata": {},
   "outputs": [
    {
     "data": {
      "image/png": "[encoded data removed]",
      "text/plain": [
       "<Figure size 864x432 with 2 Axes>"
      ]
     },
     "metadata": {
      "needs_background": "light"
     },
     "output_type": "display_data"
    }
   ],
   "source": [
    "plt.figure(figsize=(12,6))\n",
    "plt.subplot(1,2,1)\n",
    "df['V1'].hist()\n",
    "plt.title(\"Fitness under current conditions\")\n",
    "plt.ylabel(\"N of Individuals\")\n",
    "plt.xlabel(\"Fitness\")\n",
    "plt.subplot(1,2,2)\n",
    "df2['V1'].hist(color=\"orange\")\n",
    "plt.title(\"Fitness under future conditions\")\n",
    "plt.xlabel(\"Fitness\")\n",
    "plt.ylim(0,1500)\n",
    "plt.savefig(\"fitness_histogram.png\")\n",
    "plt.show()"
   ]
  },
  {
   "cell_type": "code",
   "execution_count": 20,
   "metadata": {},
   "outputs": [
    {
     "ename": "SyntaxError",
     "evalue": "invalid syntax (776000754.py, line 1)",
     "output_type": "error",
     "traceback": [
      "\u001b[0;36m  Input \u001b[0;32mIn [20]\u001b[0;36m\u001b[0m\n\u001b[0;31m    (results_dir = \"../experiment_outputs/sim1/\"\u001b[0m\n\u001b[0m                 ^\u001b[0m\n\u001b[0;31mSyntaxError\u001b[0m\u001b[0;31m:\u001b[0m invalid syntax\n"
     ]
    }
   ],
   "source": [
    "(results_dir = \"../experiment_outputs/sim1/\"\n",
    "model = StudentTeacherModel.from_pretrained(results_dir)"
   ]
  },
  {
   "cell_type": "code",
   "execution_count": 32,
   "metadata": {},
   "outputs": [],
   "source": [
    "generator = Generator(model, [\"var_current.csv\"], data_dir)"
   ]
  },
  {
   "cell_type": "code",
   "execution_count": null,
   "metadata": {},
   "outputs": [],
   "source": []
  },
  {
   "cell_type": "code",
   "execution_count": 4,
   "metadata": {},
   "outputs": [],
   "source": [
    "c_current = torch.tensor(load_conditions([\"var_current.csv\"],data_dir, True),dtype=torch.float)\n",
    "c_future = torch.tensor(load_conditions([\"var_future.csv\"],data_dir, True),dtype=torch.float)"
   ]
  },
  {
   "cell_type": "code",
   "execution_count": 14,
   "metadata": {},
   "outputs": [],
   "source": [
    "mu, logvar = model.prior(c_current)\n",
    "pmu, plogvar = model.prior(c_future)"
   ]
  },
  {
   "cell_type": "code",
   "execution_count": 15,
   "metadata": {},
   "outputs": [],
   "source": [
    "from datasets.utils import filter_by\n",
    "mu_reconstructed = filter_by(mu.detach().numpy(), generator.population)\n",
    "mu_generated = filter_by(pmu.detach().numpy(), generator.population)"
   ]
  },
  {
   "cell_type": "code",
   "execution_count": 33,
   "metadata": {},
   "outputs": [
    {
     "name": "stderr",
     "output_type": "stream",
     "text": [
      "2022-06-29 15:42:46,175 - modeling.generator - INFO - R2: 0.2479016904750273\n",
      "2022-06-29 15:42:46,175 - modeling.generator - INFO - R2: 0.2479016904750273\n"
     ]
    }
   ],
   "source": [
    "r2, genomic_offset, fitness_offset, predicted_fitness = generator.compute_r2(qtls=False)"
   ]
  },
  {
   "cell_type": "code",
   "execution_count": 34,
   "metadata": {},
   "outputs": [
    {
     "data": {
      "text/plain": [
       "<matplotlib.collections.PathCollection at 0x11ef7d850>"
      ]
     },
     "execution_count": 34,
     "metadata": {},
     "output_type": "execute_result"
    },
    {
     "data": {
      "image/png": "[encoded data removed]",
      "text/plain": [
       "<Figure size 432x288 with 1 Axes>"
      ]
     },
     "metadata": {
      "needs_background": "light"
     },
     "output_type": "display_data"
    }
   ],
   "source": [
    "plt.scatter(genomic_offset, fitness_offset)"
   ]
  },
  {
   "cell_type": "code",
   "execution_count": 18,
   "metadata": {},
   "outputs": [],
   "source": [
    "a = np.random.randint(0,50,(100,2333))"
   ]
  },
  {
   "cell_type": "code",
   "execution_count": 27,
   "metadata": {},
   "outputs": [
    {
     "data": {
      "text/plain": [
       "array([[0.46938776, 0.40816327, 0.30612245, ..., 0.93877551, 0.59183673,\n",
       "        0.57142857],\n",
       "       [0.44897959, 0.51020408, 0.42857143, ..., 0.48979592, 0.67346939,\n",
       "        1.        ],\n",
       "       [0.81632653, 0.63265306, 0.24489796, ..., 0.02040816, 0.97959184,\n",
       "        0.93877551],\n",
       "       ...,\n",
       "       [0.28571429, 0.40816327, 0.93877551, ..., 0.83673469, 0.71428571,\n",
       "        0.48979592],\n",
       "       [0.06122449, 0.51020408, 0.34693878, ..., 0.24489796, 0.55102041,\n",
       "        0.2244898 ],\n",
       "       [0.42857143, 0.6122449 , 0.24489796, ..., 0.24489796, 0.71428571,\n",
       "        0.28571429]])"
      ]
     },
     "execution_count": 27,
     "metadata": {},
     "output_type": "execute_result"
    }
   ],
   "source": [
    "a / np.max(a,axis=1,keepdims=True)"
   ]
  },
  {
   "cell_type": "code",
   "execution_count": null,
   "metadata": {},
   "outputs": [],
   "source": []
  }
 ],
 "metadata": {
  "kernelspec": {
   "display_name": "Python 3.9.2 ('deep-genomic-venv': venv)",
   "language": "python",
   "name": "python3"
  },
  "language_info": {
   "codemirror_mode": {
    "name": "ipython",
    "version": 3
   },
   "file_extension": ".py",
   "mimetype": "text/x-python",
   "name": "python",
   "nbconvert_exporter": "python",
   "pygments_lexer": "ipython3",
   "version": "3.9.13"
  },
  "orig_nbformat": 4,
  "vscode": {
   "interpreter": {
    "hash": "6c805741757512c75e21e2699edf820be4e394ca4ca49a8490f5f79b3cf5705f"
   }
  }
 },
 "nbformat": 4,
 "nbformat_minor": 2
}
