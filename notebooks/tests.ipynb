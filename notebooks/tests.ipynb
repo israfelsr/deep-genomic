{
 "cells": [
  {
   "cell_type": "code",
   "execution_count": 48,
   "metadata": {},
   "outputs": [
    {
     "name": "stdout",
     "output_type": "stream",
     "text": [
      "The autoreload extension is already loaded. To reload it, use:\n",
      "  %reload_ext autoreload\n"
     ]
    }
   ],
   "source": [
    "# set environment variables\n",
    "import sys\n",
    "import os\n",
    "path = \"/Users/israfelsalazar/Documents/deep-genomic.nosync/deep-genomic/\"\n",
    "sys.path.append(path)\n",
    "os.environ[\"WORKDIR\"] = path\n",
    "from tqdm import tqdm\n",
    "\n",
    "# common imports\n",
    "import pandas as pd\n",
    "import numpy as np\n",
    "import matplotlib.pyplot as plt\n",
    "%matplotlib inline\n",
    "import torch\n",
    "\n",
    "# torch\n",
    "from torch.utils.data import DataLoader\n",
    "\n",
    "# local imports\n",
    "from modeling.generator import Generator\n",
    "from modeling.models import StudentTeacherModel\n",
    "from datasets.genomic_environmental_dataset import load_data, load_conditions\n",
    "from train.train_generative import set_seed\n",
    "\n",
    "%load_ext autoreload\n",
    "%autoreload \n",
    "\n",
    "data_dir = \"../data/sim1\"\n",
    "\n",
    "\n",
    "set_seed(42)"
   ]
  },
  {
   "cell_type": "code",
   "execution_count": 49,
   "metadata": {},
   "outputs": [
    {
     "name": "stderr",
     "output_type": "stream",
     "text": [
      "2022-06-23 12:15:35,502 - modeling.genomic_model - INFO - Loading model from {model_path}\n",
      "2022-06-23 12:15:35,527 - modeling.genomic_model - INFO - Resolved config from ../experiment_outputs/norm_prior/config.json\n",
      "2022-06-23 12:15:35,551 - modeling.genomic_model - INFO - Loaded weights from ../experiment_outputs/norm_prior/pytorch_model.bin\n"
     ]
    }
   ],
   "source": [
    "results_dir = \"../experiment_outputs/norm_prior/\"\n",
    "model = StudentTeacherModel.from_pretrained(results_dir)"
   ]
  },
  {
   "cell_type": "code",
   "execution_count": 50,
   "metadata": {},
   "outputs": [],
   "source": [
    "generator = Generator(model, [\"var_current.csv\"], data_dir)"
   ]
  },
  {
   "cell_type": "code",
   "execution_count": 51,
   "metadata": {},
   "outputs": [],
   "source": [
    "c_current = torch.tensor(load_conditions([\"var_current.csv\"],data_dir, True),dtype=torch.float)\n",
    "c_future = torch.tensor(load_conditions([\"var_future.csv\"],data_dir, True),dtype=torch.float)"
   ]
  },
  {
   "cell_type": "code",
   "execution_count": 52,
   "metadata": {},
   "outputs": [],
   "source": [
    "mu, logvar = model.prior(c_current)\n",
    "pmu, plogvar = model.prior(c_future)"
   ]
  },
  {
   "cell_type": "code",
   "execution_count": 53,
   "metadata": {},
   "outputs": [],
   "source": [
    "from datasets.utils import filter_by\n",
    "mu_reconstructed = filter_by(mu.detach().numpy(), generator.population)\n",
    "mu_generated = filter_by(pmu.detach().numpy(), generator.population)"
   ]
  },
  {
   "cell_type": "code",
   "execution_count": 58,
   "metadata": {},
   "outputs": [
    {
     "name": "stderr",
     "output_type": "stream",
     "text": [
      "2022-06-23 12:16:12,844 - modeling.generator - INFO - R2 cvae: 0.14103439305773569\n",
      "2022-06-23 12:16:12,844 - modeling.generator - INFO - R2 cvae: 0.14103439305773569\n",
      "2022-06-23 12:16:12,844 - modeling.generator - INFO - R2 cvae: 0.14103439305773569\n",
      "2022-06-23 12:16:12,844 - modeling.generator - INFO - R2 cvae: 0.14103439305773569\n"
     ]
    }
   ],
   "source": [
    "r2, genomic_offset, fitness_offset, predicted_fitness = generator.compute_r2(mu_reconstructed, mu_generated)"
   ]
  },
  {
   "cell_type": "code",
   "execution_count": 55,
   "metadata": {},
   "outputs": [
    {
     "data": {
      "text/plain": [
       "<matplotlib.collections.PathCollection at 0x1242977c0>"
      ]
     },
     "execution_count": 55,
     "metadata": {},
     "output_type": "execute_result"
    },
    {
     "data": {
      "image/png": "[encoded data removed]",
      "text/plain": [
       "<Figure size 432x288 with 1 Axes>"
      ]
     },
     "metadata": {
      "needs_background": "light"
     },
     "output_type": "display_data"
    }
   ],
   "source": [
    "plt.scatter(genomic_offset, fitness_offset)"
   ]
  },
  {
   "cell_type": "code",
   "execution_count": null,
   "metadata": {},
   "outputs": [],
   "source": []
  }
 ],
 "metadata": {
  "kernelspec": {
   "display_name": "Python 3.9.2 ('deep-genomic-venv': venv)",
   "language": "python",
   "name": "python3"
  },
  "language_info": {
   "codemirror_mode": {
    "name": "ipython",
    "version": 3
   },
   "file_extension": ".py",
   "mimetype": "text/x-python",
   "name": "python",
   "nbconvert_exporter": "python",
   "pygments_lexer": "ipython3",
   "version": "3.9.2"
  },
  "orig_nbformat": 4,
  "vscode": {
   "interpreter": {
    "hash": "6c805741757512c75e21e2699edf820be4e394ca4ca49a8490f5f79b3cf5705f"
   }
  }
 },
 "nbformat": 4,
 "nbformat_minor": 2
}
