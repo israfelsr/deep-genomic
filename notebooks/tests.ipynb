{
 "cells": [
  {
   "cell_type": "code",
   "execution_count": 22,
   "metadata": {},
   "outputs": [
    {
     "name": "stdout",
     "output_type": "stream",
     "text": [
      "The autoreload extension is already loaded. To reload it, use:\n",
      "  %reload_ext autoreload\n"
     ]
    }
   ],
   "source": [
    "# set environment variables\n",
    "import sys\n",
    "import os\n",
    "path = \"/Users/israfelsalazar/Documents/deep-genomic.nosync/deep-genomic/\"\n",
    "sys.path.append(path)\n",
    "os.environ[\"WORKDIR\"] = path\n",
    "from tqdm import tqdm\n",
    "\n",
    "# common imports\n",
    "import pandas as pd\n",
    "import numpy as np\n",
    "import matplotlib.pyplot as plt\n",
    "%matplotlib inline\n",
    "import torch\n",
    "\n",
    "# torch\n",
    "from torch.utils.data import DataLoader\n",
    "\n",
    "# local imports\n",
    "from modeling.generator import Generator\n",
    "from modeling.models import StudentTeacherModel\n",
    "from datasets.genomic_environmental_dataset import load_data, load_conditions\n",
    "from train.train_generative import set_seed\n",
    "\n",
    "%load_ext autoreload\n",
    "%autoreload \n",
    "\n",
    "data_dir = \"../data/sim1\"\n",
    "\n",
    "\n",
    "set_seed(42)"
   ]
  },
  {
   "cell_type": "code",
   "execution_count": 23,
   "metadata": {},
   "outputs": [
    {
     "name": "stderr",
     "output_type": "stream",
     "text": [
      "2022-06-24 11:10:40,626 - modeling.genomic_model - INFO - Loading model from {model_path}\n",
      "2022-06-24 11:10:40,639 - modeling.genomic_model - INFO - Resolved config from ../experiment_outputs/norm_prior/config.json\n",
      "2022-06-24 11:10:40,690 - modeling.genomic_model - INFO - Loaded weights from ../experiment_outputs/norm_prior/pytorch_model.bin\n"
     ]
    }
   ],
   "source": [
    "results_dir = \"../experiment_outputs/norm_prior/\"\n",
    "model = StudentTeacherModel.from_pretrained(results_dir)"
   ]
  },
  {
   "cell_type": "code",
   "execution_count": 24,
   "metadata": {},
   "outputs": [],
   "source": [
    "generator = Generator(model, [\"var_current.csv\"], data_dir)"
   ]
  },
  {
   "cell_type": "code",
   "execution_count": 20,
   "metadata": {},
   "outputs": [],
   "source": [
    "c_current = torch.tensor(load_conditions([\"var_current.csv\"],data_dir, True),dtype=torch.float)\n",
    "c_future = torch.tensor(load_conditions([\"var_future.csv\"],data_dir, True),dtype=torch.float)"
   ]
  },
  {
   "cell_type": "code",
   "execution_count": 14,
   "metadata": {},
   "outputs": [],
   "source": [
    "mu, logvar = model.prior(c_current)\n",
    "pmu, plogvar = model.prior(c_future)"
   ]
  },
  {
   "cell_type": "code",
   "execution_count": 15,
   "metadata": {},
   "outputs": [],
   "source": [
    "from datasets.utils import filter_by\n",
    "mu_reconstructed = filter_by(mu.detach().numpy(), generator.population)\n",
    "mu_generated = filter_by(pmu.detach().numpy(), generator.population)"
   ]
  },
  {
   "cell_type": "code",
   "execution_count": 26,
   "metadata": {},
   "outputs": [
    {
     "name": "stderr",
     "output_type": "stream",
     "text": [
      "2022-06-24 11:11:04,859 - modeling.generator - INFO - R2: 0.1516112511295391\n",
      "2022-06-24 11:11:04,859 - modeling.generator - INFO - R2: 0.1516112511295391\n",
      "2022-06-24 11:11:04,859 - modeling.generator - INFO - R2: 0.1516112511295391\n",
      "2022-06-24 11:11:04,859 - modeling.generator - INFO - R2: 0.1516112511295391\n"
     ]
    },
    {
     "name": "stdout",
     "output_type": "stream",
     "text": [
      "(2036, 180)\n",
      "(100, 180)\n"
     ]
    }
   ],
   "source": [
    "r2, genomic_offset, fitness_offset, predicted_fitness = generator.compute_r2(qtls=False)"
   ]
  },
  {
   "cell_type": "code",
   "execution_count": 55,
   "metadata": {},
   "outputs": [
    {
     "data": {
      "text/plain": [
       "<matplotlib.collections.PathCollection at 0x1242977c0>"
      ]
     },
     "execution_count": 55,
     "metadata": {},
     "output_type": "execute_result"
    },
    {
     "data": {
      "image/png": "[encoded data removed]",
      "text/plain": [
       "<Figure size 432x288 with 1 Axes>"
      ]
     },
     "metadata": {
      "needs_background": "light"
     },
     "output_type": "display_data"
    }
   ],
   "source": [
    "plt.scatter(genomic_offset, fitness_offset)"
   ]
  },
  {
   "cell_type": "code",
   "execution_count": 11,
   "metadata": {},
   "outputs": [
    {
     "name": "stderr",
     "output_type": "stream",
     "text": [
      "/Users/israfelsalazar/Documents/deep-genomic.nosync/deep-genomic/deep-genomic-venv/lib/python3.9/site-packages/IPython/core/interactiveshell.py:3398: FutureWarning: In a future version of pandas all arguments of read_csv except for the argument 'filepath_or_buffer' will be keyword-only.\n",
      "  exec(code_obj, self.user_global_ns, self.user_ns)\n"
     ]
    }
   ],
   "source": [
    "df = pd.read_csv('/Users/israfelsalazar/Documents/deep-genomic.nosync/deep-genomic/experiment_outputs/norm_prior/mat_result_python_3.csv', ' ')"
   ]
  },
  {
   "cell_type": "code",
   "execution_count": 12,
   "metadata": {},
   "outputs": [
    {
     "data": {
      "text/html": [
       "<div>\n",
       "<style scoped>\n",
       "    .dataframe tbody tr th:only-of-type {\n",
       "        vertical-align: middle;\n",
       "    }\n",
       "\n",
       "    .dataframe tbody tr th {\n",
       "        vertical-align: top;\n",
       "    }\n",
       "\n",
       "    .dataframe thead th {\n",
       "        text-align: right;\n",
       "    }\n",
       "</style>\n",
       "<table border=\"1\" class=\"dataframe\">\n",
       "  <thead>\n",
       "    <tr style=\"text-align: right;\">\n",
       "      <th></th>\n",
       "      <th>GeneticGap</th>\n",
       "      <th>RONA</th>\n",
       "      <th>GF</th>\n",
       "      <th>RDA</th>\n",
       "    </tr>\n",
       "  </thead>\n",
       "  <tbody>\n",
       "    <tr>\n",
       "      <th>1</th>\n",
       "      <td>0.057199</td>\n",
       "      <td>0.290553</td>\n",
       "      <td>0.157637</td>\n",
       "      <td>0.015088</td>\n",
       "    </tr>\n",
       "    <tr>\n",
       "      <th>2</th>\n",
       "      <td>0.023267</td>\n",
       "      <td>0.244490</td>\n",
       "      <td>0.095596</td>\n",
       "      <td>0.009623</td>\n",
       "    </tr>\n",
       "    <tr>\n",
       "      <th>3</th>\n",
       "      <td>0.032493</td>\n",
       "      <td>0.264310</td>\n",
       "      <td>0.063580</td>\n",
       "      <td>0.011813</td>\n",
       "    </tr>\n",
       "    <tr>\n",
       "      <th>4</th>\n",
       "      <td>0.042882</td>\n",
       "      <td>0.246466</td>\n",
       "      <td>0.092474</td>\n",
       "      <td>0.013510</td>\n",
       "    </tr>\n",
       "    <tr>\n",
       "      <th>5</th>\n",
       "      <td>0.020943</td>\n",
       "      <td>0.262887</td>\n",
       "      <td>0.064646</td>\n",
       "      <td>0.009500</td>\n",
       "    </tr>\n",
       "    <tr>\n",
       "      <th>...</th>\n",
       "      <td>...</td>\n",
       "      <td>...</td>\n",
       "      <td>...</td>\n",
       "      <td>...</td>\n",
       "    </tr>\n",
       "    <tr>\n",
       "      <th>96</th>\n",
       "      <td>0.016001</td>\n",
       "      <td>0.247161</td>\n",
       "      <td>0.088487</td>\n",
       "      <td>0.008087</td>\n",
       "    </tr>\n",
       "    <tr>\n",
       "      <th>97</th>\n",
       "      <td>0.045465</td>\n",
       "      <td>0.266779</td>\n",
       "      <td>0.091761</td>\n",
       "      <td>0.013479</td>\n",
       "    </tr>\n",
       "    <tr>\n",
       "      <th>98</th>\n",
       "      <td>0.058571</td>\n",
       "      <td>0.290798</td>\n",
       "      <td>0.096676</td>\n",
       "      <td>0.015971</td>\n",
       "    </tr>\n",
       "    <tr>\n",
       "      <th>99</th>\n",
       "      <td>0.005803</td>\n",
       "      <td>0.202616</td>\n",
       "      <td>0.022188</td>\n",
       "      <td>0.005032</td>\n",
       "    </tr>\n",
       "    <tr>\n",
       "      <th>100</th>\n",
       "      <td>0.028150</td>\n",
       "      <td>0.218979</td>\n",
       "      <td>0.061217</td>\n",
       "      <td>0.011230</td>\n",
       "    </tr>\n",
       "  </tbody>\n",
       "</table>\n",
       "<p>100 rows × 4 columns</p>\n",
       "</div>"
      ],
      "text/plain": [
       "     GeneticGap      RONA        GF       RDA\n",
       "1      0.057199  0.290553  0.157637  0.015088\n",
       "2      0.023267  0.244490  0.095596  0.009623\n",
       "3      0.032493  0.264310  0.063580  0.011813\n",
       "4      0.042882  0.246466  0.092474  0.013510\n",
       "5      0.020943  0.262887  0.064646  0.009500\n",
       "..          ...       ...       ...       ...\n",
       "96     0.016001  0.247161  0.088487  0.008087\n",
       "97     0.045465  0.266779  0.091761  0.013479\n",
       "98     0.058571  0.290798  0.096676  0.015971\n",
       "99     0.005803  0.202616  0.022188  0.005032\n",
       "100    0.028150  0.218979  0.061217  0.011230\n",
       "\n",
       "[100 rows x 4 columns]"
      ]
     },
     "execution_count": 12,
     "metadata": {},
     "output_type": "execute_result"
    }
   ],
   "source": [
    "df"
   ]
  },
  {
   "cell_type": "code",
   "execution_count": 22,
   "metadata": {},
   "outputs": [
    {
     "name": "stdout",
     "output_type": "stream",
     "text": [
      "R2 cvae: 0.9447372408337256\n"
     ]
    },
    {
     "data": {
      "text/plain": [
       "[<matplotlib.lines.Line2D at 0x12776ec40>]"
      ]
     },
     "execution_count": 22,
     "metadata": {},
     "output_type": "execute_result"
    },
    {
     "data": {
      "image/png": "[encoded data removed]",
      "text/plain": [
       "<Figure size 432x288 with 1 Axes>"
      ]
     },
     "metadata": {
      "needs_background": "light"
     },
     "output_type": "display_data"
    }
   ],
   "source": [
    "from sklearn.linear_model import LinearRegression\n",
    "x = np.asarray(df['GeneticGap'])\n",
    "y = -np.asarray(df['RDA'])\n",
    "linear_model = LinearRegression().fit(x.reshape(-1, 1),y)\n",
    "r2 = linear_model.score(x.reshape(-1, 1), y)\n",
    "print(f\"R2 cvae: {r2}\")\n",
    "predicted_fitness = linear_model.predict(x.reshape(-1, 1))\n",
    "plt.scatter(x, y)\n",
    "plt.plot(x, predicted_fitness)"
   ]
  },
  {
   "cell_type": "code",
   "execution_count": null,
   "metadata": {},
   "outputs": [],
   "source": []
  }
 ],
 "metadata": {
  "kernelspec": {
   "display_name": "Python 3.9.2 ('deep-genomic-venv': venv)",
   "language": "python",
   "name": "python3"
  },
  "language_info": {
   "codemirror_mode": {
    "name": "ipython",
    "version": 3
   },
   "file_extension": ".py",
   "mimetype": "text/x-python",
   "name": "python",
   "nbconvert_exporter": "python",
   "pygments_lexer": "ipython3",
   "version": "3.9.2"
  },
  "orig_nbformat": 4,
  "vscode": {
   "interpreter": {
    "hash": "6c805741757512c75e21e2699edf820be4e394ca4ca49a8490f5f79b3cf5705f"
   }
  }
 },
 "nbformat": 4,
 "nbformat_minor": 2
}
