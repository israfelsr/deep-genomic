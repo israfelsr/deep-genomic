{
 "cells": [
  {
   "cell_type": "code",
   "execution_count": 2,
   "metadata": {},
   "outputs": [
    {
     "name": "stdout",
     "output_type": "stream",
     "text": [
      "The autoreload extension is already loaded. To reload it, use:\n",
      "  %reload_ext autoreload\n"
     ]
    }
   ],
   "source": [
    "# set environment variables\n",
    "import sys\n",
    "import os\n",
    "path = \"/Users/israfelsalazar/Documents/deep-genomic.nosync/deep-genomic/\"\n",
    "sys.path.append(path)\n",
    "os.environ[\"WORKDIR\"] = path\n",
    "from tqdm import tqdm\n",
    "\n",
    "# common imports\n",
    "import pandas as pd\n",
    "import numpy as np\n",
    "import matplotlib.pyplot as plt\n",
    "%matplotlib inline\n",
    "import torch\n",
    "\n",
    "# torch\n",
    "from torch.utils.data import DataLoader\n",
    "\n",
    "# local imports\n",
    "from datasets.genomic_environmental_dataset import load_data, load_conditions\n",
    "from train.train_generative import set_seed\n",
    "\n",
    "%load_ext autoreload\n",
    "%autoreload \n",
    "\n",
    "data_dir = \"../data/sim1\"\n",
    "\n",
    "\n",
    "set_seed(42)"
   ]
  },
  {
   "cell_type": "code",
   "execution_count": 6,
   "metadata": {},
   "outputs": [],
   "source": [
    "c = load_conditions([\"var_current.csv\"], data_dir, norm=False)\n",
    "c_norm = load_conditions([\"var_current.csv\"], data_dir, norm=True)"
   ]
  },
  {
   "cell_type": "code",
   "execution_count": 7,
   "metadata": {},
   "outputs": [
    {
     "data": {
      "text/plain": [
       "array([[0.609507 , 0.299301 ],\n",
       "       [0.801071 , 0.380642 ],\n",
       "       [0.0911095, 0.227116 ],\n",
       "       ...,\n",
       "       [0.870371 , 0.577144 ],\n",
       "       [0.5071   , 0.185832 ],\n",
       "       [0.587267 , 0.69286  ]])"
      ]
     },
     "execution_count": 7,
     "metadata": {},
     "output_type": "execute_result"
    }
   ],
   "source": [
    "c"
   ]
  },
  {
   "cell_type": "code",
   "execution_count": 8,
   "metadata": {},
   "outputs": [
    {
     "data": {
      "text/plain": [
       "array([[ 0.48468058, -0.9461871 ],\n",
       "       [ 1.28189908, -0.60659159],\n",
       "       [-1.67269806, -1.24755667],\n",
       "       ...,\n",
       "       [ 1.57030005,  0.21379662],\n",
       "       [ 0.05850052, -1.41991577],\n",
       "       [ 0.39212592,  0.69690642]])"
      ]
     },
     "execution_count": 8,
     "metadata": {},
     "output_type": "execute_result"
    }
   ],
   "source": [
    "c_norm"
   ]
  },
  {
   "cell_type": "code",
   "execution_count": null,
   "metadata": {},
   "outputs": [],
   "source": []
  }
 ],
 "metadata": {
  "kernelspec": {
   "display_name": "Python 3.9.2 ('deep-genomic-venv': venv)",
   "language": "python",
   "name": "python3"
  },
  "language_info": {
   "codemirror_mode": {
    "name": "ipython",
    "version": 3
   },
   "file_extension": ".py",
   "mimetype": "text/x-python",
   "name": "python",
   "nbconvert_exporter": "python",
   "pygments_lexer": "ipython3",
   "version": "3.9.2"
  },
  "orig_nbformat": 4,
  "vscode": {
   "interpreter": {
    "hash": "6c805741757512c75e21e2699edf820be4e394ca4ca49a8490f5f79b3cf5705f"
   }
  }
 },
 "nbformat": 4,
 "nbformat_minor": 2
}
